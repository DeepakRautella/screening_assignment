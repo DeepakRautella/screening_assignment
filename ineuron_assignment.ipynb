{
 "cells": [
  {
   "cell_type": "code",
   "execution_count": 24,
   "id": "fa8ece60",
   "metadata": {},
   "outputs": [],
   "source": [
    "with open('example.txt', \"w\") as f:\n",
    "    f.write(\"This is a placement assignment\")\n",
    "    f.close()\n",
    "    "
   ]
  },
  {
   "cell_type": "code",
   "execution_count": 27,
   "id": "b1f55123",
   "metadata": {},
   "outputs": [],
   "source": [
    "def replace_string(file):\n",
    "    file=open(file,\"r+\")\n",
    "    file=file.read()\n",
    "    file=file.replace(\"placement\",\"screening\")\n",
    "    print(file)\n",
    "    \n",
    "  "
   ]
  },
  {
   "cell_type": "code",
   "execution_count": 28,
   "id": "e625763c",
   "metadata": {},
   "outputs": [
    {
     "name": "stdout",
     "output_type": "stream",
     "text": [
      "This is a screening assignment\n"
     ]
    }
   ],
   "source": [
    "replace_string(\"example.txt\")"
   ]
  },
  {
   "cell_type": "markdown",
   "id": "f436ffd7",
   "metadata": {},
   "source": [
    "# abstract class:\n"
   ]
  },
  {
   "cell_type": "raw",
   "id": "9e337a03",
   "metadata": {},
   "source": [
    "abstract class considered as blueprint for child class. An abstract method is a method that is declared, but contains no implementation. Abstract classes may not be instantiated, and its abstract methods must be implemented by its subclasses"
   ]
  },
  {
   "cell_type": "code",
   "execution_count": 29,
   "id": "700a36ad",
   "metadata": {},
   "outputs": [
    {
     "name": "stdout",
     "output_type": "stream",
     "text": [
      "The opposite sides are parallel and congruent.'\n",
      "'The opposite angles are congruent.\n",
      "The opposite sides are parallel and equal to each other.'\n",
      "'Each interior angle is equal to 90 degrees.\n",
      "All sides are parallel and equal to each other.'\n",
      "'Each interior angle is equal to 90 degrees.\n",
      "All sides of the rhombus are equal.'\n",
      "'The opposite sides of a rhombus are parallel.'\n",
      "'Opposite angles of a rhombus are equal.\n"
     ]
    }
   ],
   "source": [
    "from abc import ABC, abstractmethod\n",
    " \n",
    "class Quadrilateral(ABC):\n",
    " \n",
    "    @abstractmethod\n",
    "    def properties(self):\n",
    "        pass\n",
    "    \n",
    "class Parallelogram(Quadrilateral):\n",
    " \n",
    "    # overriding abstract method\n",
    "    def properties(self):\n",
    "        print(\"The opposite sides are parallel and congruent.'\\n'The opposite angles are congruent.\")\n",
    "\n",
    "    \n",
    "class Rectangle(Quadrilateral):\n",
    " \n",
    "    # overriding abstract method\n",
    "    def properties(self):\n",
    "        print(\"The opposite sides are parallel and equal to each other.'\\n'Each interior angle is equal to 90 degrees.\")\n",
    " \n",
    "class Square(Quadrilateral):\n",
    " \n",
    "    # overriding abstract method\n",
    "    def properties(self):\n",
    "        print(\"All sides are parallel and equal to each other.'\\n'Each interior angle is equal to 90 degrees.\")\n",
    "\n",
    "class Rombus(Quadrilateral):\n",
    " \n",
    "    # overriding abstract method\n",
    "    def properties(self):\n",
    "        print(\"All sides of the rhombus are equal.'\\n'The opposite sides of a rhombus are parallel.'\\n'Opposite angles of a rhombus are equal.\")\n",
    "\n",
    "\n",
    "# Driver code\n",
    "P= Parallelogram()\n",
    "P.properties()\n",
    " \n",
    "R = Rectangle()\n",
    "R.properties()\n",
    " \n",
    "S = Square()\n",
    "S.properties()\n",
    " \n",
    "R1 = Rombus()\n",
    "R1.properties()"
   ]
  },
  {
   "cell_type": "markdown",
   "id": "7c534e1e",
   "metadata": {},
   "source": [
    "# Multiple Inheritance\n"
   ]
  },
  {
   "cell_type": "code",
   "execution_count": 31,
   "id": "efddcd10",
   "metadata": {},
   "outputs": [],
   "source": [
    "class A:\n",
    "    def method1(self):\n",
    "        print(\"A class method is called\")\n",
    "        \n",
    "class B(A):\n",
    "    def method1(self):\n",
    "        print(\"B class method is called\")\n",
    "    def method2(self):\n",
    "        print(\"B class method is called\")\n",
    "\n",
    "class C(A):\n",
    "    def method1(self):\n",
    "        print(\"C class method is called\")\n",
    "\n",
    "class D(B,C):\n",
    "    def method1(self):\n",
    "        print(\"D class method is called\")\n",
    "        C.method1(self)\n",
    "        B.method1(self)\n",
    "        A.method1(self)"
   ]
  },
  {
   "cell_type": "code",
   "execution_count": 32,
   "id": "58bad2b9",
   "metadata": {},
   "outputs": [],
   "source": [
    "d=D()"
   ]
  },
  {
   "cell_type": "code",
   "execution_count": 35,
   "id": "81bc432a",
   "metadata": {},
   "outputs": [
    {
     "name": "stdout",
     "output_type": "stream",
     "text": [
      "D class method is called\n",
      "C class method is called\n",
      "B class method is called\n",
      "A class method is called\n"
     ]
    }
   ],
   "source": [
    "d.method1()\n"
   ]
  },
  {
   "cell_type": "code",
   "execution_count": 36,
   "id": "7c57384e",
   "metadata": {},
   "outputs": [
    {
     "name": "stdout",
     "output_type": "stream",
     "text": [
      "B class method is called\n"
     ]
    }
   ],
   "source": [
    "d.method2()"
   ]
  },
  {
   "cell_type": "code",
   "execution_count": 38,
   "id": "308ebf9b",
   "metadata": {},
   "outputs": [
    {
     "name": "stdout",
     "output_type": "stream",
     "text": [
      "A class method is called\n"
     ]
    }
   ],
   "source": [
    "A.method1(d)"
   ]
  },
  {
   "cell_type": "code",
   "execution_count": 39,
   "id": "6e0c214c",
   "metadata": {},
   "outputs": [
    {
     "name": "stdout",
     "output_type": "stream",
     "text": [
      "B class method is called\n"
     ]
    }
   ],
   "source": [
    "B.method2(d)"
   ]
  },
  {
   "cell_type": "code",
   "execution_count": 40,
   "id": "edfdaa55",
   "metadata": {},
   "outputs": [
    {
     "name": "stdout",
     "output_type": "stream",
     "text": [
      "C class method is called\n"
     ]
    }
   ],
   "source": [
    "C.method1(d)"
   ]
  },
  {
   "cell_type": "markdown",
   "id": "61466cc1",
   "metadata": {},
   "source": [
    "# Decorators:"
   ]
  },
  {
   "cell_type": "raw",
   "id": "a2c7d1f4",
   "metadata": {},
   "source": [
    "Decorators is a tool in python,which allow programmers to modify the behaviour of a function or class.\n",
    "It allows us to pass a function to another function as an arguments."
   ]
  },
  {
   "cell_type": "code",
   "execution_count": 45,
   "id": "131282be",
   "metadata": {},
   "outputs": [
    {
     "name": "stdout",
     "output_type": "stream",
     "text": [
      "A FUNCTION PASSED AS AN ARGUMENT.\n"
     ]
    }
   ],
   "source": [
    "# can be passed as arguments to other functions\n",
    "def shout(text):\n",
    "    return text.upper()\n",
    " \n",
    "def greet(func):\n",
    "    # storing the function in a variable\n",
    "    greeting = func(\"\"\"a function passed as an argument.\"\"\")\n",
    "    print (greeting)\n",
    "\n",
    "greet(shout)"
   ]
  },
  {
   "cell_type": "code",
   "execution_count": null,
   "id": "558f1c43",
   "metadata": {},
   "outputs": [],
   "source": []
  }
 ],
 "metadata": {
  "kernelspec": {
   "display_name": "Python 3 (ipykernel)",
   "language": "python",
   "name": "python3"
  },
  "language_info": {
   "codemirror_mode": {
    "name": "ipython",
    "version": 3
   },
   "file_extension": ".py",
   "mimetype": "text/x-python",
   "name": "python",
   "nbconvert_exporter": "python",
   "pygments_lexer": "ipython3",
   "version": "3.9.7"
  }
 },
 "nbformat": 4,
 "nbformat_minor": 5
}
